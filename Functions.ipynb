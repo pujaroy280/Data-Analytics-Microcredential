{
  "nbformat": 4,
  "nbformat_minor": 0,
  "metadata": {
    "colab": {
      "name": "Functions.ipynb",
      "provenance": [],
      "collapsed_sections": [],
      "authorship_tag": "ABX9TyOOvq05eWWeUXURYNgZDVKs",
      "include_colab_link": true
    },
    "kernelspec": {
      "name": "python3",
      "display_name": "Python 3"
    },
    "language_info": {
      "name": "python"
    }
  },
  "cells": [
    {
      "cell_type": "markdown",
      "metadata": {
        "id": "view-in-github",
        "colab_type": "text"
      },
      "source": [
        "<a href=\"https://colab.research.google.com/github/pujaroy280/Data-Analytics-Microcredential/blob/main/Functions.ipynb\" target=\"_parent\"><img src=\"https://colab.research.google.com/assets/colab-badge.svg\" alt=\"Open In Colab\"/></a>"
      ]
    },
    {
      "cell_type": "markdown",
      "source": [
        "# Intro to Python IV"
      ],
      "metadata": {
        "id": "lNLtECW5m8Vo"
      }
    },
    {
      "cell_type": "markdown",
      "source": [
        "# Functions"
      ],
      "metadata": {
        "id": "qnzqCtVJm_U3"
      }
    },
    {
      "cell_type": "markdown",
      "source": [
        "## 1) How to define a function?"
      ],
      "metadata": {
        "id": "nnjH1I8TnEQR"
      }
    },
    {
      "cell_type": "code",
      "source": [
        "\"\"\"\n",
        "'def' name_of_function():\n",
        "    whatever the function is supposed to do.\n",
        "\"\"\""
      ],
      "metadata": {
        "colab": {
          "base_uri": "https://localhost:8080/",
          "height": 36
        },
        "id": "QQzJ2zcjYbLe",
        "outputId": "4459eed4-69e7-43cc-8917-5dd6e7199516"
      },
      "execution_count": 4,
      "outputs": [
        {
          "output_type": "execute_result",
          "data": {
            "text/plain": [
              "\"\\n'def' name_of_function():\\n    whatever the function is supposed to do.\\n\""
            ],
            "application/vnd.google.colaboratory.intrinsic+json": {
              "type": "string"
            }
          },
          "metadata": {},
          "execution_count": 4
        }
      ]
    },
    {
      "cell_type": "code",
      "source": [
        "def my_function(): #define my function and the function always has to close with parantheses and colon\n",
        "   print(\"Hi there\")"
      ],
      "metadata": {
        "id": "2PB9KaKAYon4"
      },
      "execution_count": 6,
      "outputs": []
    },
    {
      "cell_type": "code",
      "source": [
        "type(my_function)"
      ],
      "metadata": {
        "colab": {
          "base_uri": "https://localhost:8080/"
        },
        "id": "rfqRNljtZD-J",
        "outputId": "d28564ae-1ed9-4343-99f5-b9e407b12e6d"
      },
      "execution_count": 8,
      "outputs": [
        {
          "output_type": "execute_result",
          "data": {
            "text/plain": [
              "function"
            ]
          },
          "metadata": {},
          "execution_count": 8
        }
      ]
    },
    {
      "cell_type": "code",
      "source": [
        "my_function "
      ],
      "metadata": {
        "colab": {
          "base_uri": "https://localhost:8080/"
        },
        "id": "OWFrJdtMZGBf",
        "outputId": "75ef6943-297c-4515-99fe-c797e4386f8d"
      },
      "execution_count": 9,
      "outputs": [
        {
          "output_type": "execute_result",
          "data": {
            "text/plain": [
              "<function __main__.my_function>"
            ]
          },
          "metadata": {},
          "execution_count": 9
        }
      ]
    },
    {
      "cell_type": "code",
      "source": [
        "my_function()"
      ],
      "metadata": {
        "colab": {
          "base_uri": "https://localhost:8080/"
        },
        "id": "OSfgc0TQZNkE",
        "outputId": "ff210ad4-1f41-4ce1-a816-6bd0bc7b01fd"
      },
      "execution_count": 10,
      "outputs": [
        {
          "output_type": "stream",
          "name": "stdout",
          "text": [
            "Hi there\n"
          ]
        }
      ]
    },
    {
      "cell_type": "code",
      "source": [
        "help(my_function)"
      ],
      "metadata": {
        "colab": {
          "base_uri": "https://localhost:8080/"
        },
        "id": "o07Kna6-ZQfk",
        "outputId": "9930183e-7d5a-454e-c579-bbc4eb728213"
      },
      "execution_count": 11,
      "outputs": [
        {
          "output_type": "stream",
          "name": "stdout",
          "text": [
            "Help on function my_function in module __main__:\n",
            "\n",
            "my_function()\n",
            "\n"
          ]
        }
      ]
    },
    {
      "cell_type": "code",
      "source": [
        "def my_function():\n",
        "  \"\"\"\n",
        "  Created by: Puja Roy # The Kahn\n",
        "  Input: None\n",
        "  Output: Hello\n",
        "  \"\"\"\n",
        "  print(\"Hello\")"
      ],
      "metadata": {
        "id": "0jgqEYIZZWWj"
      },
      "execution_count": 20,
      "outputs": []
    },
    {
      "cell_type": "code",
      "source": [
        "my_function()"
      ],
      "metadata": {
        "colab": {
          "base_uri": "https://localhost:8080/"
        },
        "id": "SXtSwlXXZiGN",
        "outputId": "9b936849-bb34-4868-a1be-6c44fd19d419"
      },
      "execution_count": 21,
      "outputs": [
        {
          "output_type": "stream",
          "name": "stdout",
          "text": [
            "Hello\n"
          ]
        }
      ]
    },
    {
      "cell_type": "code",
      "source": [
        "help(my_function)\n",
        "# Need to add duck strings for function assignments or else they will be graded 0!"
      ],
      "metadata": {
        "colab": {
          "base_uri": "https://localhost:8080/"
        },
        "id": "4f9TrSDhZ8U-",
        "outputId": "d79fcf30-365a-43bb-cc28-5f8c21c1e7e4"
      },
      "execution_count": 23,
      "outputs": [
        {
          "output_type": "stream",
          "name": "stdout",
          "text": [
            "Help on function my_function in module __main__:\n",
            "\n",
            "my_function()\n",
            "    Created by: Puja Roy # The Kahn\n",
            "    Input: None\n",
            "    Output: Hello\n",
            "\n"
          ]
        }
      ]
    },
    {
      "cell_type": "code",
      "source": [
        "def greetings(name):\n",
        "  \"\"\"\n",
        "  Created by: Puja Roy # The Kahn\n",
        "  Input: None\n",
        "  Output: Hello to the user\n",
        "  \"\"\"\n",
        "  print(\"Good afternoon \" + name)"
      ],
      "metadata": {
        "id": "WV1tEcYqZ-Bo"
      },
      "execution_count": 37,
      "outputs": []
    },
    {
      "cell_type": "code",
      "source": [
        "greetings(\"Puja\")"
      ],
      "metadata": {
        "colab": {
          "base_uri": "https://localhost:8080/"
        },
        "id": "jGchTSxEal5x",
        "outputId": "18bcc6be-04ce-4a72-c542-858bb049c159"
      },
      "execution_count": 38,
      "outputs": [
        {
          "output_type": "stream",
          "name": "stdout",
          "text": [
            "Good afternoon Puja\n"
          ]
        }
      ]
    },
    {
      "cell_type": "code",
      "source": [
        "def greetings2(name = \"Puja\"):\n",
        "  \"\"\"\n",
        "  Created by: Puja Roy # The Kahn\n",
        "  Input: None\n",
        "  Output: Hello to the user\n",
        "  \"\"\"\n",
        "  print(\"Good afternoon \" + name)"
      ],
      "metadata": {
        "id": "SK6YcqaFarc8"
      },
      "execution_count": 43,
      "outputs": []
    },
    {
      "cell_type": "code",
      "source": [
        "greetings2(\"Tom\")"
      ],
      "metadata": {
        "colab": {
          "base_uri": "https://localhost:8080/"
        },
        "id": "fTBX2aihbFnI",
        "outputId": "4ede139d-afc5-451b-d030-63ed91b789af"
      },
      "execution_count": 44,
      "outputs": [
        {
          "output_type": "stream",
          "name": "stdout",
          "text": [
            "Good afternoon Tom\n"
          ]
        }
      ]
    },
    {
      "cell_type": "code",
      "source": [
        "name = input(\"Enter your name: \")\n",
        "greetings2(name)"
      ],
      "metadata": {
        "colab": {
          "base_uri": "https://localhost:8080/"
        },
        "id": "ozwhOM5kbKTd",
        "outputId": "d642bc12-eea1-45ec-c8ae-d95d8fd9b7e2"
      },
      "execution_count": 46,
      "outputs": [
        {
          "output_type": "stream",
          "name": "stdout",
          "text": [
            "Enter your name: Hazel\n",
            "Good afternoon Hazel\n"
          ]
        }
      ]
    },
    {
      "cell_type": "code",
      "source": [
        "def add(n1, n2):  # Define a function called \"add\" to add 2 numbers\n",
        "  return n1 + n2"
      ],
      "metadata": {
        "id": "PIi3qRkUbV7K"
      },
      "execution_count": 47,
      "outputs": []
    },
    {
      "cell_type": "code",
      "source": [
        "add(34,89) # Output of the add function "
      ],
      "metadata": {
        "colab": {
          "base_uri": "https://localhost:8080/"
        },
        "id": "DxRbWjhKb1qx",
        "outputId": "0bdc29dc-ffad-4ba9-f6fd-c037fd0c2382"
      },
      "execution_count": 48,
      "outputs": [
        {
          "output_type": "execute_result",
          "data": {
            "text/plain": [
              "123"
            ]
          },
          "metadata": {},
          "execution_count": 48
        }
      ]
    },
    {
      "cell_type": "code",
      "source": [
        "def even_numbers(n):\n",
        "  \"\"\"\n",
        "  Description: This function prints out even numbers from a given list of nuumbers.\n",
        "  Created by: Puja Roy # The Kahn\n",
        "  Input: List of numbers\n",
        "  Output: Even numbers from given list\n",
        "  \"\"\"\n",
        "  num = [] # empty array for all numbers\n",
        "  for i in n:  \n",
        "       if i % 2 == 0:   # If i is divided by 2 return something\n",
        "         num.append(i)  # Add stuff to the array (append)\n",
        "  return(num) # Indentation matters and make sure that for and return are indented similarly"
      ],
      "metadata": {
        "id": "7ajw_Jq5b4Mh"
      },
      "execution_count": 57,
      "outputs": []
    },
    {
      "cell_type": "code",
      "source": [
        "help(even_numbers)"
      ],
      "metadata": {
        "colab": {
          "base_uri": "https://localhost:8080/"
        },
        "id": "_SBbAioucxUZ",
        "outputId": "a7916277-6fe2-412b-d1b2-6d791f08af49"
      },
      "execution_count": 58,
      "outputs": [
        {
          "output_type": "stream",
          "name": "stdout",
          "text": [
            "Help on function even_numbers in module __main__:\n",
            "\n",
            "even_numbers(n)\n",
            "    Description: This function prints out even numbers from a given list of nuumbers.\n",
            "    Created by: Puja Roy # The Kahn\n",
            "    Input: List of numbers\n",
            "    Output: Even numbers from given list\n",
            "\n"
          ]
        }
      ]
    },
    {
      "cell_type": "code",
      "source": [
        "even_numbers([23, 56, 33, 90, 8, 7, 4,7890])"
      ],
      "metadata": {
        "colab": {
          "base_uri": "https://localhost:8080/"
        },
        "id": "dhBFjGSwc8Z1",
        "outputId": "4f308a7c-ea9f-4748-b4eb-273cc91d157f"
      },
      "execution_count": 59,
      "outputs": [
        {
          "output_type": "execute_result",
          "data": {
            "text/plain": [
              "[56, 90, 8, 4, 7890]"
            ]
          },
          "metadata": {},
          "execution_count": 59
        }
      ]
    },
    {
      "cell_type": "code",
      "source": [
        "even_numbers([23, 5, 33]) # Doesn't print any even numbers because there is no even numbers in the list"
      ],
      "metadata": {
        "colab": {
          "base_uri": "https://localhost:8080/"
        },
        "id": "88c85PQedCpv",
        "outputId": "f7614196-183a-4afc-f0e8-17e1709611cd"
      },
      "execution_count": 61,
      "outputs": [
        {
          "output_type": "execute_result",
          "data": {
            "text/plain": [
              "[]"
            ]
          },
          "metadata": {},
          "execution_count": 61
        }
      ]
    },
    {
      "cell_type": "code",
      "source": [
        "# Practice that I did \n",
        "def odd_numbers(n):\n",
        "  \"\"\"\n",
        "  Description: This function prints out odd numbers from a given list of nuumbers.\n",
        "  Created by: Puja Roy # The Kahn\n",
        "  Input: List of numbers\n",
        "  Output: Odd numbers from given list\n",
        "  \"\"\"\n",
        "  num = [] # empty array for all numbers\n",
        "  for i in n:  \n",
        "       if i % 2 != 0:  # if any number is not equal to 0 \n",
        "         num.append(i)  # Add stuff to the array (append)\n",
        "  return(num) # Indentation matters and make sure that for and return are indented similarly"
      ],
      "metadata": {
        "id": "RRv0PLGLda4n"
      },
      "execution_count": 66,
      "outputs": []
    },
    {
      "cell_type": "code",
      "source": [
        "help(odd_numbers)"
      ],
      "metadata": {
        "colab": {
          "base_uri": "https://localhost:8080/"
        },
        "id": "b5vcN1udd7By",
        "outputId": "ab782760-79f9-4dfc-a97c-453ee5f0c595"
      },
      "execution_count": 67,
      "outputs": [
        {
          "output_type": "stream",
          "name": "stdout",
          "text": [
            "Help on function odd_numbers in module __main__:\n",
            "\n",
            "odd_numbers(n)\n",
            "    Description: This function prints out odd numbers from a given list of nuumbers.\n",
            "    Created by: Puja Roy # The Kahn\n",
            "    Input: List of numbers\n",
            "    Output: Odd numbers from given list\n",
            "\n"
          ]
        }
      ]
    },
    {
      "cell_type": "code",
      "source": [
        "odd_numbers([23, 56, 33, 90, 8, 7, 4,7890])"
      ],
      "metadata": {
        "colab": {
          "base_uri": "https://localhost:8080/"
        },
        "id": "vw687bDzd_8X",
        "outputId": "b4887f99-8bba-4897-b34a-55a7fe570389"
      },
      "execution_count": 68,
      "outputs": [
        {
          "output_type": "execute_result",
          "data": {
            "text/plain": [
              "[23, 33, 7]"
            ]
          },
          "metadata": {},
          "execution_count": 68
        }
      ]
    },
    {
      "cell_type": "code",
      "source": [
        "odd_numbers([23, 5, 33])"
      ],
      "metadata": {
        "colab": {
          "base_uri": "https://localhost:8080/"
        },
        "id": "m6WmZn62eDpD",
        "outputId": "7bed90da-10a8-4f10-ee29-f7f4774f0061"
      },
      "execution_count": 69,
      "outputs": [
        {
          "output_type": "execute_result",
          "data": {
            "text/plain": [
              "[23, 5, 33]"
            ]
          },
          "metadata": {},
          "execution_count": 69
        }
      ]
    }
  ]
}