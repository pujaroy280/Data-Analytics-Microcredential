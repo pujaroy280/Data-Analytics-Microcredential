{
  "nbformat": 4,
  "nbformat_minor": 0,
  "metadata": {
    "colab": {
      "name": "Functions.ipynb",
      "provenance": [],
      "collapsed_sections": [],
      "authorship_tag": "ABX9TyOcDEn/gHWknxl1c5/NuL4e",
      "include_colab_link": true
    },
    "kernelspec": {
      "name": "python3",
      "display_name": "Python 3"
    },
    "language_info": {
      "name": "python"
    }
  },
  "cells": [
    {
      "cell_type": "markdown",
      "metadata": {
        "id": "view-in-github",
        "colab_type": "text"
      },
      "source": [
        "<a href=\"https://colab.research.google.com/github/pujaroy280/Data-Analytics-Microcredential/blob/main/Functions.ipynb\" target=\"_parent\"><img src=\"https://colab.research.google.com/assets/colab-badge.svg\" alt=\"Open In Colab\"/></a>"
      ]
    },
    {
      "cell_type": "markdown",
      "source": [
        "# Intro to Python IV"
      ],
      "metadata": {
        "id": "lNLtECW5m8Vo"
      }
    },
    {
      "cell_type": "markdown",
      "source": [
        "# Functions"
      ],
      "metadata": {
        "id": "qnzqCtVJm_U3"
      }
    },
    {
      "cell_type": "markdown",
      "source": [
        "## 1) How to define a function?"
      ],
      "metadata": {
        "id": "nnjH1I8TnEQR"
      }
    },
    {
      "cell_type": "code",
      "source": [
        "\"\"\"\n",
        "'def' name_of_function():\n",
        "    whatever the function is supposed to do.\n",
        "\"\"\""
      ],
      "metadata": {
        "colab": {
          "base_uri": "https://localhost:8080/",
          "height": 36
        },
        "id": "QQzJ2zcjYbLe",
        "outputId": "cadb7a31-c6d0-42ef-a531-1beb3307e688"
      },
      "execution_count": 70,
      "outputs": [
        {
          "output_type": "execute_result",
          "data": {
            "text/plain": [
              "\"\\n'def' name_of_function():\\n    whatever the function is supposed to do.\\n\""
            ],
            "application/vnd.google.colaboratory.intrinsic+json": {
              "type": "string"
            }
          },
          "metadata": {},
          "execution_count": 70
        }
      ]
    },
    {
      "cell_type": "code",
      "source": [
        "def my_function(): #define my function and the function always has to close with parantheses and colon\n",
        "   print(\"Hi there\")"
      ],
      "metadata": {
        "id": "2PB9KaKAYon4"
      },
      "execution_count": 71,
      "outputs": []
    },
    {
      "cell_type": "code",
      "source": [
        "type(my_function)"
      ],
      "metadata": {
        "colab": {
          "base_uri": "https://localhost:8080/"
        },
        "id": "rfqRNljtZD-J",
        "outputId": "987013b3-30fe-4034-8dd9-66818ef3a1ce"
      },
      "execution_count": 72,
      "outputs": [
        {
          "output_type": "execute_result",
          "data": {
            "text/plain": [
              "function"
            ]
          },
          "metadata": {},
          "execution_count": 72
        }
      ]
    },
    {
      "cell_type": "code",
      "source": [
        "my_function "
      ],
      "metadata": {
        "colab": {
          "base_uri": "https://localhost:8080/"
        },
        "id": "OWFrJdtMZGBf",
        "outputId": "ea788549-5d37-4442-c849-03c152734792"
      },
      "execution_count": 73,
      "outputs": [
        {
          "output_type": "execute_result",
          "data": {
            "text/plain": [
              "<function __main__.my_function>"
            ]
          },
          "metadata": {},
          "execution_count": 73
        }
      ]
    },
    {
      "cell_type": "code",
      "source": [
        "my_function()"
      ],
      "metadata": {
        "colab": {
          "base_uri": "https://localhost:8080/"
        },
        "id": "OSfgc0TQZNkE",
        "outputId": "56a88c71-8ba8-437c-8116-5505344cbacd"
      },
      "execution_count": 74,
      "outputs": [
        {
          "output_type": "stream",
          "name": "stdout",
          "text": [
            "Hi there\n"
          ]
        }
      ]
    },
    {
      "cell_type": "code",
      "source": [
        "help(my_function)"
      ],
      "metadata": {
        "colab": {
          "base_uri": "https://localhost:8080/"
        },
        "id": "o07Kna6-ZQfk",
        "outputId": "13bedeb5-d9eb-4615-f2aa-90f90f7fa9b1"
      },
      "execution_count": 75,
      "outputs": [
        {
          "output_type": "stream",
          "name": "stdout",
          "text": [
            "Help on function my_function in module __main__:\n",
            "\n",
            "my_function()\n",
            "\n"
          ]
        }
      ]
    },
    {
      "cell_type": "code",
      "source": [
        "def my_function():\n",
        "  \"\"\"\n",
        "  Created by: Puja Roy # The Kahn\n",
        "  Input: None\n",
        "  Output: Hello\n",
        "  \"\"\"\n",
        "  print(\"Hello\")"
      ],
      "metadata": {
        "id": "0jgqEYIZZWWj"
      },
      "execution_count": 76,
      "outputs": []
    },
    {
      "cell_type": "code",
      "source": [
        "my_function()"
      ],
      "metadata": {
        "colab": {
          "base_uri": "https://localhost:8080/"
        },
        "id": "SXtSwlXXZiGN",
        "outputId": "d698540b-907b-4323-83af-58e3516cfa2a"
      },
      "execution_count": 77,
      "outputs": [
        {
          "output_type": "stream",
          "name": "stdout",
          "text": [
            "Hello\n"
          ]
        }
      ]
    },
    {
      "cell_type": "code",
      "source": [
        "help(my_function)\n",
        "# Need to add duck strings for function assignments or else they will be graded 0!"
      ],
      "metadata": {
        "colab": {
          "base_uri": "https://localhost:8080/"
        },
        "id": "4f9TrSDhZ8U-",
        "outputId": "e339b243-1854-43ae-819d-e60c4e869ca1"
      },
      "execution_count": 78,
      "outputs": [
        {
          "output_type": "stream",
          "name": "stdout",
          "text": [
            "Help on function my_function in module __main__:\n",
            "\n",
            "my_function()\n",
            "    Created by: Puja Roy # The Kahn\n",
            "    Input: None\n",
            "    Output: Hello\n",
            "\n"
          ]
        }
      ]
    },
    {
      "cell_type": "code",
      "source": [
        "def greetings(name):\n",
        "  \"\"\"\n",
        "  Created by: Puja Roy # The Kahn\n",
        "  Input: None\n",
        "  Output: Hello to the user\n",
        "  \"\"\"\n",
        "  print(\"Good afternoon \" + name)"
      ],
      "metadata": {
        "id": "WV1tEcYqZ-Bo"
      },
      "execution_count": 79,
      "outputs": []
    },
    {
      "cell_type": "code",
      "source": [
        "greetings(\"Puja\")"
      ],
      "metadata": {
        "colab": {
          "base_uri": "https://localhost:8080/"
        },
        "id": "jGchTSxEal5x",
        "outputId": "bb136d95-4bcf-4aaa-ba24-5534f672ecc8"
      },
      "execution_count": 80,
      "outputs": [
        {
          "output_type": "stream",
          "name": "stdout",
          "text": [
            "Good afternoon Puja\n"
          ]
        }
      ]
    },
    {
      "cell_type": "code",
      "source": [
        "def greetings2(name = \"Puja\"):\n",
        "  \"\"\"\n",
        "  Created by: Puja Roy # The Kahn\n",
        "  Input: None\n",
        "  Output: Hello to the user\n",
        "  \"\"\"\n",
        "  print(\"Good afternoon \" + name)"
      ],
      "metadata": {
        "id": "SK6YcqaFarc8"
      },
      "execution_count": 81,
      "outputs": []
    },
    {
      "cell_type": "code",
      "source": [
        "greetings2(\"Tom\")"
      ],
      "metadata": {
        "colab": {
          "base_uri": "https://localhost:8080/"
        },
        "id": "fTBX2aihbFnI",
        "outputId": "c6745828-87ad-46cc-d697-db5f6ff678ac"
      },
      "execution_count": 82,
      "outputs": [
        {
          "output_type": "stream",
          "name": "stdout",
          "text": [
            "Good afternoon Tom\n"
          ]
        }
      ]
    },
    {
      "cell_type": "code",
      "source": [
        "name = input(\"Enter your name: \")\n",
        "greetings2(name)"
      ],
      "metadata": {
        "colab": {
          "base_uri": "https://localhost:8080/"
        },
        "id": "ozwhOM5kbKTd",
        "outputId": "1f99e275-d9e8-4ef9-fae4-b98cb1a391ee"
      },
      "execution_count": 83,
      "outputs": [
        {
          "output_type": "stream",
          "name": "stdout",
          "text": [
            "Enter your name: Puja\n",
            "Good afternoon Puja\n"
          ]
        }
      ]
    },
    {
      "cell_type": "code",
      "source": [
        "def add(n1, n2):  # Define a function called \"add\" to add 2 numbers\n",
        "  return n1 + n2"
      ],
      "metadata": {
        "id": "PIi3qRkUbV7K"
      },
      "execution_count": 84,
      "outputs": []
    },
    {
      "cell_type": "code",
      "source": [
        "add(34,89) # Output of the add function "
      ],
      "metadata": {
        "colab": {
          "base_uri": "https://localhost:8080/"
        },
        "id": "DxRbWjhKb1qx",
        "outputId": "0fd0a3d9-c30e-49c7-eae8-d2b78aa851b5"
      },
      "execution_count": 85,
      "outputs": [
        {
          "output_type": "execute_result",
          "data": {
            "text/plain": [
              "123"
            ]
          },
          "metadata": {},
          "execution_count": 85
        }
      ]
    },
    {
      "cell_type": "code",
      "source": [
        "def even_numbers(n):\n",
        "  \"\"\"\n",
        "  Description: This function prints out even numbers from a given list of nuumbers.\n",
        "  Created by: Puja Roy\n",
        "  Input: List of numbers\n",
        "  Output: Even numbers from given list\n",
        "  \"\"\"\n",
        "  num = [] # empty array for all numbers\n",
        "  for i in n:  \n",
        "       if i % 2 == 0:   # If i is divided by 2 return something\n",
        "         num.append(i)  # Add stuff to the array (append)\n",
        "  return(num) # Indentation matters and make sure that for and return are indented similarly"
      ],
      "metadata": {
        "id": "7ajw_Jq5b4Mh"
      },
      "execution_count": 86,
      "outputs": []
    },
    {
      "cell_type": "code",
      "source": [
        "help(even_numbers)"
      ],
      "metadata": {
        "colab": {
          "base_uri": "https://localhost:8080/"
        },
        "id": "_SBbAioucxUZ",
        "outputId": "1ed084e3-ebf2-43f8-c4dd-075ba7bd0124"
      },
      "execution_count": 87,
      "outputs": [
        {
          "output_type": "stream",
          "name": "stdout",
          "text": [
            "Help on function even_numbers in module __main__:\n",
            "\n",
            "even_numbers(n)\n",
            "    Description: This function prints out even numbers from a given list of nuumbers.\n",
            "    Created by: Puja Roy\n",
            "    Input: List of numbers\n",
            "    Output: Even numbers from given list\n",
            "\n"
          ]
        }
      ]
    },
    {
      "cell_type": "code",
      "source": [
        "even_numbers([23, 56, 33, 90, 8, 7, 4,7890])"
      ],
      "metadata": {
        "colab": {
          "base_uri": "https://localhost:8080/"
        },
        "id": "dhBFjGSwc8Z1",
        "outputId": "ab0d02aa-0e52-4195-e1b4-6918931e8b36"
      },
      "execution_count": 88,
      "outputs": [
        {
          "output_type": "execute_result",
          "data": {
            "text/plain": [
              "[56, 90, 8, 4, 7890]"
            ]
          },
          "metadata": {},
          "execution_count": 88
        }
      ]
    },
    {
      "cell_type": "code",
      "source": [
        "even_numbers([23, 5, 33]) # Doesn't print any even numbers because there is no even numbers in the list"
      ],
      "metadata": {
        "colab": {
          "base_uri": "https://localhost:8080/"
        },
        "id": "88c85PQedCpv",
        "outputId": "d12de1ce-3497-4955-921d-006e671be0fc"
      },
      "execution_count": 89,
      "outputs": [
        {
          "output_type": "execute_result",
          "data": {
            "text/plain": [
              "[]"
            ]
          },
          "metadata": {},
          "execution_count": 89
        }
      ]
    },
    {
      "cell_type": "code",
      "source": [
        "# Practice that I did \n",
        "def odd_numbers(n):\n",
        "  \"\"\"\n",
        "  Description: This function prints out odd numbers from a given list of nuumbers.\n",
        "  Created by: Puja Roy\n",
        "  Input: List of numbers\n",
        "  Output: Odd numbers from given list\n",
        "  \"\"\"\n",
        "  num = [] # empty array for all numbers\n",
        "  for i in n:  \n",
        "       if i % 2 != 0:  # if any number is not equal to 0 \n",
        "         num.append(i)  # Add stuff to the array (append)\n",
        "  return(num) # Indentation matters and make sure that for and return are indented similarly"
      ],
      "metadata": {
        "id": "RRv0PLGLda4n"
      },
      "execution_count": 90,
      "outputs": []
    },
    {
      "cell_type": "code",
      "source": [
        "help(odd_numbers)"
      ],
      "metadata": {
        "colab": {
          "base_uri": "https://localhost:8080/"
        },
        "id": "b5vcN1udd7By",
        "outputId": "bb0f3886-b7fa-4f4f-ab84-e1592a043f3f"
      },
      "execution_count": 91,
      "outputs": [
        {
          "output_type": "stream",
          "name": "stdout",
          "text": [
            "Help on function odd_numbers in module __main__:\n",
            "\n",
            "odd_numbers(n)\n",
            "    Description: This function prints out odd numbers from a given list of nuumbers.\n",
            "    Created by: Puja Roy\n",
            "    Input: List of numbers\n",
            "    Output: Odd numbers from given list\n",
            "\n"
          ]
        }
      ]
    },
    {
      "cell_type": "code",
      "source": [
        "odd_numbers([23, 56, 33, 90, 8, 7, 4,7890])"
      ],
      "metadata": {
        "colab": {
          "base_uri": "https://localhost:8080/"
        },
        "id": "vw687bDzd_8X",
        "outputId": "728913ad-6649-4338-ea90-3f0d6a68bd9f"
      },
      "execution_count": 92,
      "outputs": [
        {
          "output_type": "execute_result",
          "data": {
            "text/plain": [
              "[23, 33, 7]"
            ]
          },
          "metadata": {},
          "execution_count": 92
        }
      ]
    },
    {
      "cell_type": "code",
      "source": [
        "odd_numbers([23, 5, 33])"
      ],
      "metadata": {
        "colab": {
          "base_uri": "https://localhost:8080/"
        },
        "id": "m6WmZn62eDpD",
        "outputId": "d6d78db6-bc1c-4bd8-a874-b40c49911235"
      },
      "execution_count": 93,
      "outputs": [
        {
          "output_type": "execute_result",
          "data": {
            "text/plain": [
              "[23, 5, 33]"
            ]
          },
          "metadata": {},
          "execution_count": 93
        }
      ]
    }
  ]
}