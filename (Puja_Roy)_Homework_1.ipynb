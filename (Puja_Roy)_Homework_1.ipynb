{
  "nbformat": 4,
  "nbformat_minor": 0,
  "metadata": {
    "colab": {
      "name": "(Puja Roy) Homework 1.ipynb",
      "provenance": [],
      "collapsed_sections": [],
      "include_colab_link": true
    },
    "kernelspec": {
      "name": "python3",
      "display_name": "Python 3"
    },
    "language_info": {
      "name": "python"
    }
  },
  "cells": [
    {
      "cell_type": "markdown",
      "metadata": {
        "id": "view-in-github",
        "colab_type": "text"
      },
      "source": [
        "<a href=\"https://colab.research.google.com/github/pujaroy280/Data-Analytics-Microcredential/blob/main/(Puja_Roy)_Homework_1.ipynb\" target=\"_parent\"><img src=\"https://colab.research.google.com/assets/colab-badge.svg\" alt=\"Open In Colab\"/></a>"
      ]
    },
    {
      "cell_type": "markdown",
      "source": [
        "# Answer all the questions!"
      ],
      "metadata": {
        "id": "FkJsXd8D06Rp"
      }
    },
    {
      "cell_type": "markdown",
      "source": [
        "##Write a Python program to get the volume of a sphere with radius 6"
      ],
      "metadata": {
        "id": "elOgKZR009ex"
      }
    },
    {
      "cell_type": "code",
      "source": [
        "# Reference: https://www.w3resource.com/python-exercises/python-basic-exercise-15.php\n",
        "# pi's mathematical value\n",
        "pi = 3.1415926535897931\n",
        "# Radius of the sphere\n",
        "r= 6.0  \n",
        "# Formula of the volume of a sphere with the value of pi and r \n",
        "V= 4.0/3.0*pi* r**3  \n",
        "# Prints the volume of the sphere\n",
        "print('Volume of the sphere is: ',V) "
      ],
      "metadata": {
        "id": "YbhKO6Cs09av",
        "colab": {
          "base_uri": "https://localhost:8080/"
        },
        "outputId": "6187234b-8f72-4267-8cf4-013069c80a89"
      },
      "execution_count": 23,
      "outputs": [
        {
          "output_type": "stream",
          "name": "stdout",
          "text": [
            "Volume of the sphere is:  904.7786842338603\n"
          ]
        }
      ]
    },
    {
      "cell_type": "markdown",
      "source": [
        "##Write a Python program to find whether a given number (accept from the user) is even or odd"
      ],
      "metadata": {
        "id": "OuX7aazu09X1"
      }
    },
    {
      "cell_type": "code",
      "source": [
        "# Reference: https://www.w3resource.com/python-exercises/python-basic-exercise-21.php\n",
        "# Enter a number that is stored in the variable named \"num\"\n",
        "num = int(input(\"Enter a number: \"))\n",
        "# The entered number is divided by 2\n",
        "inputted_num = num % 2\n",
        "# If the entered number is greater than 0, then the number is an odd number. \n",
        "if inputted_num > 0:\n",
        "    print(\"This is an odd number.\")\n",
        "# If the entered number is not greater than 0, the number is an even number\n",
        "else:\n",
        "    print(\"This is an even number.\")"
      ],
      "metadata": {
        "id": "vcYhNNaU09Uz",
        "colab": {
          "base_uri": "https://localhost:8080/"
        },
        "outputId": "939eade5-96cf-4f50-d116-a3e9438087d6"
      },
      "execution_count": 24,
      "outputs": [
        {
          "output_type": "stream",
          "name": "stdout",
          "text": [
            "Enter a number: 60\n",
            "This is an even number.\n"
          ]
        }
      ]
    },
    {
      "cell_type": "markdown",
      "source": [
        "##Write a Python program to count the number 4 in a given list"
      ],
      "metadata": {
        "id": "NP5TZKqO09Rr"
      }
    },
    {
      "cell_type": "code",
      "source": [
        "def list_count_4(nums):\n",
        "  \"\"\"\n",
        "  Description: This function prints out the count of how many \"4\" numbers are given in a list of numbers.\n",
        "  Define a function where the num counts the number 4 in a list\n",
        "  Created by: Puja Roy\n",
        "  Input: List of numbers \n",
        "  Output: Count of the number 4 in each give list\n",
        "  Reference: https://www.w3resource.com/python-exercises/python-basic-exercise-22.php\n",
        "  \"\"\"\n",
        "  count = 0  \n",
        "  for num in nums:\n",
        "    if num == 4:\n",
        "      count = count + 1\n",
        "\n",
        "  return count\n",
        "# The system prints out the number of 4 in each list\n",
        "print(list_count_4([1, 4, 6, 7, 4]))\n",
        "print(list_count_4([1, 4, 6, 4, 7, 4]))\n",
        "print(list_count_4([1, 4, 4, 4, 4, 4]))\n",
        "print(list_count_4([1, 4, 5, 4, 7, 4, 4, 4, 7, 8, 4, 4, 8, 9, 4]))"
      ],
      "metadata": {
        "id": "oWZ3vTfW09Oh",
        "colab": {
          "base_uri": "https://localhost:8080/"
        },
        "outputId": "785f1f95-abf6-4f7c-a0e5-65b91f12efb1"
      },
      "execution_count": 25,
      "outputs": [
        {
          "output_type": "stream",
          "name": "stdout",
          "text": [
            "2\n",
            "3\n",
            "5\n",
            "8\n"
          ]
        }
      ]
    },
    {
      "cell_type": "code",
      "source": [
        "help(list_count_4)"
      ],
      "metadata": {
        "colab": {
          "base_uri": "https://localhost:8080/"
        },
        "id": "-d1UW0V5_H7G",
        "outputId": "8f60d029-cc7e-4afa-ba87-5716ac0fae32"
      },
      "execution_count": 26,
      "outputs": [
        {
          "output_type": "stream",
          "name": "stdout",
          "text": [
            "Help on function list_count_4 in module __main__:\n",
            "\n",
            "list_count_4(nums)\n",
            "    Description: This function prints out the count of how many \"4\" numbers are given in a list of numbers.\n",
            "    Define a function where the num counts the number 4 in a list\n",
            "    Created by: Puja Roy\n",
            "    Input: List of numbers \n",
            "    Output: Count of the number 4 in each give list\n",
            "    Reference: https://www.w3resource.com/python-exercises/python-basic-exercise-22.php\n",
            "\n"
          ]
        }
      ]
    },
    {
      "cell_type": "markdown",
      "source": [
        "##Write a Python program that will accept the base and height of a triangle and compute the area"
      ],
      "metadata": {
        "id": "IK0FvUoa1MJG"
      }
    },
    {
      "cell_type": "code",
      "source": [
        "# Reference: https://www.w3resource.com/python-exercises/python-basic-exercise-30.php\n",
        "# Enter a base of a triangle which is stored in the variable b\n",
        "b = int(input(\"Input the base : \"))\n",
        "# Enter a height of a triangle which is stored in the variable h\n",
        "h = int(input(\"Input the height : \"))\n",
        "\n",
        "# Formula for the area of a triangle \n",
        "area = b*h/2\n",
        "\n",
        "# Print the area of the triangle based on the base and height entered by the user\n",
        "print(\"area = \", area)"
      ],
      "metadata": {
        "id": "G02dv4rh1MFs",
        "colab": {
          "base_uri": "https://localhost:8080/"
        },
        "outputId": "bb81c77a-533d-44bc-9064-9a30389611eb"
      },
      "execution_count": 27,
      "outputs": [
        {
          "output_type": "stream",
          "name": "stdout",
          "text": [
            "Input the base : 50\n",
            "Input the height : 90\n",
            "area =  2250.0\n"
          ]
        }
      ]
    },
    {
      "cell_type": "markdown",
      "source": [
        "##Write a Python program to convert the distance (in feet) to inches, yards, and miles."
      ],
      "metadata": {
        "id": "sOkeycZk1L5-"
      }
    },
    {
      "cell_type": "code",
      "source": [
        "# Reference: https://www.w3resource.com/python-exercises/python-basic-exercise-61.php\n",
        "# Enter distance (in feet) which is stored in a variable called d_ft\n",
        "d_ft = int(input(\"Input distance in feet: \"))\n",
        "# The entered value of distance(in feet) is converted to inches by multiplying 12 to the value of distance(in feet)\n",
        "d_inches = d_ft * 12\n",
        "# The entered value of distance(in feet) is converted to yards by dividing 3.0 from the value of distance(in feet)\n",
        "d_yards = d_ft / 3.0           # / symbol represents float division\n",
        "# The entered value of distance(in feet) is converted to miles by dividing 5280.0 from the value of distance(in feet)\n",
        "d_miles = d_ft / 5280.0\n",
        "\n",
        "# Print the distance in inches, yards and miles\n",
        "print(\"The distance in inches is %i inches.\" % d_inches)\n",
        "print(\"The distance in yards is %.2f yards.\" % d_yards)\n",
        "print(\"The distance in miles is %.2f miles.\" % d_miles)"
      ],
      "metadata": {
        "id": "YtW-ZxqB1L2c",
        "colab": {
          "base_uri": "https://localhost:8080/"
        },
        "outputId": "6c011e56-0f53-43fe-f636-4766af48ffb1"
      },
      "execution_count": 28,
      "outputs": [
        {
          "output_type": "stream",
          "name": "stdout",
          "text": [
            "Input distance in feet: 45\n",
            "The distance in inches is 540 inches.\n",
            "The distance in yards is 15.00 yards.\n",
            "The distance in miles is 0.01 miles.\n"
          ]
        }
      ]
    }
  ]
}