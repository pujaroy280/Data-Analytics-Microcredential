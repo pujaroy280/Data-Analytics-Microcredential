{
  "nbformat": 4,
  "nbformat_minor": 0,
  "metadata": {
    "colab": {
      "name": "(PR)Unit2_Mini_Project.ipynb",
      "provenance": [],
      "collapsed_sections": [],
      "include_colab_link": true
    },
    "kernelspec": {
      "name": "python3",
      "display_name": "Python 3"
    }
  },
  "cells": [
    {
      "cell_type": "markdown",
      "metadata": {
        "id": "view-in-github",
        "colab_type": "text"
      },
      "source": [
        "<a href=\"https://colab.research.google.com/github/pujaroy280/Data-Analytics-Microcredential/blob/main/(PR)Unit2_Mini_Project.ipynb\" target=\"_parent\"><img src=\"https://colab.research.google.com/assets/colab-badge.svg\" alt=\"Open In Colab\"/></a>"
      ]
    },
    {
      "cell_type": "markdown",
      "metadata": {
        "id": "Vgs8Kp4TidFQ"
      },
      "source": [
        "# Introduction to Python - Mini Project"
      ]
    },
    {
      "cell_type": "markdown",
      "metadata": {
        "id": "_Hq7Ny79iwgD"
      },
      "source": [
        "#Python Project – Odd or Even\n",
        "\n",
        "Ask the user for a number. Depending on whether the number is even or odd, print out an appropriate message to the user. Hint: how does an even / odd number react differently when divided by 2?\n"
      ]
    },
    {
      "cell_type": "code",
      "metadata": {
        "id": "lotvpVpvlKsR",
        "colab": {
          "base_uri": "https://localhost:8080/"
        },
        "outputId": "9f9739d6-dd63-45ba-d0fa-1dded4a1031f"
      },
      "source": [
        "num = int(input(\"Enter a number: \"))\n",
        "\n",
        "if num % 2 == 0:\n",
        "    print('Number ' + str(num) + ' is even!')\n",
        "else:\n",
        "    print('Number ' + str(num) + ' is odd!')"
      ],
      "execution_count": 5,
      "outputs": [
        {
          "output_type": "stream",
          "name": "stdout",
          "text": [
            "Enter a number: 33\n",
            "Number 33 is odd!\n"
          ]
        }
      ]
    },
    {
      "cell_type": "markdown",
      "metadata": {
        "id": "io_27RSlizno"
      },
      "source": [
        "# Bonus:\n",
        "\n",
        "1.\tIf the number is a multiple of 4, print out a different message.\n",
        "\n",
        "2.\tAsk the user for two numbers: one number to check (call it num) and one number to divide by (check). If check divides evenly into num, tell that to the user. If not, print a different appropriate message.\n"
      ]
    },
    {
      "cell_type": "code",
      "source": [
        "# number 1\n",
        "num_entered = int(input(\"Enter a number: \"))\n",
        "\n",
        "if num_entered % 4 == 0:\n",
        "    print('Number ' + str(num_entered) + ' is a mulitple of 4!')\n",
        "else:\n",
        "    print('Number ' + str(num_entered) + ' is not a multiple of 4!')"
      ],
      "metadata": {
        "colab": {
          "base_uri": "https://localhost:8080/"
        },
        "id": "HxEZLhaFQw7s",
        "outputId": "ba9b27d4-5f80-41a2-e68d-06efed0cbdcc"
      },
      "execution_count": 8,
      "outputs": [
        {
          "output_type": "stream",
          "name": "stdout",
          "text": [
            "Enter a number: 16\n",
            "Number 16 is a mulitple of 4!\n"
          ]
        }
      ]
    },
    {
      "cell_type": "code",
      "metadata": {
        "id": "Dh1o5cAylSHB",
        "colab": {
          "base_uri": "https://localhost:8080/"
        },
        "outputId": "aa285cf8-a623-4fd8-ce63-0c90f2cbaaba"
      },
      "source": [
        "# number 2\n",
        "num_entered1 = input(\"Enter dividend: \")\n",
        "num_entered2 = input(\"Enter divisor: \")\n",
        "\n",
        "if int(num_entered1) % int(num_entered2) == 0:\n",
        "    print(num_entered1 + \" divides \" + num_entered2 + \" evenly!\")\n",
        "else:\n",
        "    print(num_entered1 + \" does not divide \" + num_entered2 + \" evenly!\")"
      ],
      "execution_count": 10,
      "outputs": [
        {
          "output_type": "stream",
          "name": "stdout",
          "text": [
            "Enter dividend: 22\n",
            "Enter divisor: 11\n",
            "22 divides 11 evenly!\n"
          ]
        }
      ]
    }
  ]
}