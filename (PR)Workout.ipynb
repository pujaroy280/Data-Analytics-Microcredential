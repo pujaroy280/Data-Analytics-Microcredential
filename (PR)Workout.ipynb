{
  "nbformat": 4,
  "nbformat_minor": 0,
  "metadata": {
    "colab": {
      "name": "(PR)Workout.ipynb",
      "provenance": [],
      "include_colab_link": true
    },
    "kernelspec": {
      "name": "python3",
      "display_name": "Python 3"
    },
    "language_info": {
      "name": "python"
    }
  },
  "cells": [
    {
      "cell_type": "markdown",
      "metadata": {
        "id": "view-in-github",
        "colab_type": "text"
      },
      "source": [
        "<a href=\"https://colab.research.google.com/github/pujaroy280/Data-Analytics-Microcredential/blob/main/(PR)Workout.ipynb\" target=\"_parent\"><img src=\"https://colab.research.google.com/assets/colab-badge.svg\" alt=\"Open In Colab\"/></a>"
      ]
    },
    {
      "cell_type": "markdown",
      "source": [
        "# Python Practice Problems"
      ],
      "metadata": {
        "id": "WPsYJ3_Om1x1"
      }
    },
    {
      "cell_type": "markdown",
      "source": [
        "## Display numbers divisible by 5 from a list"
      ],
      "metadata": {
        "id": "hq6fpXBunPEx"
      }
    },
    {
      "cell_type": "code",
      "source": [
        "def divisible_by_five(n):\n",
        "    \"\"\"\n",
        "    Description: This func prints out numbers divisible by 5 from a given list of numbers.\n",
        "    Created by: Puja Roy\n",
        "    Input: list of numbers\n",
        "    Output: numbers divisible by 5 from given list\n",
        "    \"\"\"\n",
        "\n",
        "    num_list = []  # create an empty list to be filled.\n",
        "    for num in n:\n",
        "        if num % 5 == 0:\n",
        "            num_list.append(num)  # if num is a factor of 5, add to list\n",
        "    return num_list               # print the list"
      ],
      "metadata": {
        "id": "aPY1VNUlnPLC"
      },
      "execution_count": 1,
      "outputs": []
    },
    {
      "cell_type": "code",
      "source": [
        "divisible_by_five([1,5,10,11,15])"
      ],
      "metadata": {
        "colab": {
          "base_uri": "https://localhost:8080/"
        },
        "id": "CF7mNMe3nPO0",
        "outputId": "6ca6e93b-bf8f-49b8-c404-aa5ae15a4958"
      },
      "execution_count": 2,
      "outputs": [
        {
          "output_type": "execute_result",
          "data": {
            "text/plain": [
              "[5, 10, 15]"
            ]
          },
          "metadata": {},
          "execution_count": 2
        }
      ]
    },
    {
      "cell_type": "markdown",
      "source": [
        "## Check if the first and last number of a list is the same"
      ],
      "metadata": {
        "id": "yjcAmjz6nPR8"
      }
    },
    {
      "cell_type": "code",
      "source": [
        "num_list = [1,2,3,4,1,5,1, 12]\n",
        "if num_list[0] == num_list[-1]:\n",
        "    print(\"Equal\")\n",
        "else:\n",
        "    print(\"Not equal\")"
      ],
      "metadata": {
        "colab": {
          "base_uri": "https://localhost:8080/"
        },
        "id": "FW88Bcw1r2iI",
        "outputId": "f5520ddb-16c8-4222-ba1b-53e2f5163ecd"
      },
      "execution_count": 3,
      "outputs": [
        {
          "output_type": "stream",
          "name": "stdout",
          "text": [
            "Not equal\n"
          ]
        }
      ]
    },
    {
      "cell_type": "code",
      "source": [
        "def check_end_nums(n):\n",
        "    \"\"\"\n",
        "    Description: This func prints out numbers at end of a list and checks if they are equal.\n",
        "    Created by: Puja Roy\n",
        "    Input: list of numbers\n",
        "    Output: prints first and last number in list. Prints 'Equal' if numbers at \n",
        "            ends of list are equal, else prints 'Not equal.'\n",
        "    \"\"\"\n",
        "    print(\"First number: \" + str(n[0]) )\n",
        "    print(\"Last number: \" + str(n[-1]) )\n",
        "    if n[0] == n[-1]:\n",
        "        print(\"Equal\")\n",
        "    else:\n",
        "        print(\"Not equal\")"
      ],
      "metadata": {
        "id": "7bHlzufkr3QF"
      },
      "execution_count": 4,
      "outputs": []
    },
    {
      "cell_type": "code",
      "source": [
        "check_end_nums([1,2,3,4,5,6,1,2,3,5,1])"
      ],
      "metadata": {
        "colab": {
          "base_uri": "https://localhost:8080/"
        },
        "id": "HerRkZQJr3Ur",
        "outputId": "9e84b548-c161-4c2d-d4d8-cc329393d7bf"
      },
      "execution_count": 5,
      "outputs": [
        {
          "output_type": "stream",
          "name": "stdout",
          "text": [
            "First number: 1\n",
            "Last number: 1\n",
            "Equal\n"
          ]
        }
      ]
    },
    {
      "cell_type": "markdown",
      "source": [
        "## Display the first and last colors from a given list"
      ],
      "metadata": {
        "id": "7PGjY-a1r3Zr"
      }
    },
    {
      "cell_type": "code",
      "source": [
        "def display_colors(n):\n",
        "    \"\"\"\n",
        "    Description: Display the first and last colors from a given list.\n",
        "    Created by: Puja Roy\n",
        "    Input: list of colors(strings)\n",
        "    Output: Prints the first and last color from a given list of colors\n",
        "    \"\"\"\n",
        "\n",
        "    print(\"First color: \" + n[0] )\n",
        "    print(\"Last color: \" + n[-1] )\n",
        "    "
      ],
      "metadata": {
        "id": "U2DyaX4dwMl7"
      },
      "execution_count": 6,
      "outputs": []
    },
    {
      "cell_type": "code",
      "source": [
        "display_colors([\"red\",\"black\",\"blue\",\"purple\",\"violet\",\"brown\"])"
      ],
      "metadata": {
        "colab": {
          "base_uri": "https://localhost:8080/"
        },
        "id": "zE8r0yCFwMsy",
        "outputId": "967a9872-92cf-48b5-97a8-c2f7d665e8c4"
      },
      "execution_count": 7,
      "outputs": [
        {
          "output_type": "stream",
          "name": "stdout",
          "text": [
            "First color: red\n",
            "Last color: brown\n"
          ]
        }
      ]
    },
    {
      "cell_type": "markdown",
      "source": [
        "## Input an integer (n) and computes the value of n + nn + nnn"
      ],
      "metadata": {
        "id": "2H46y1GWwMwp"
      }
    },
    {
      "cell_type": "code",
      "source": [
        "def sum_of_ns(n):\n",
        "    \"\"\"\n",
        "    Description: Computes the value of of n + nn + nnn.\n",
        "    Created by: Puja Roy\n",
        "    Input: An integer value n\n",
        "    Output: The sum of n + nn + nnn.\n",
        "    \"\"\"\n",
        "    sum = 0\n",
        "    for i in range(1,4):\n",
        "        sum = sum + (n**i)\n",
        "    return sum\n"
      ],
      "metadata": {
        "id": "pmuVrU4vwM0B"
      },
      "execution_count": 8,
      "outputs": []
    },
    {
      "cell_type": "code",
      "source": [
        "sum_of_ns(2)"
      ],
      "metadata": {
        "colab": {
          "base_uri": "https://localhost:8080/"
        },
        "id": "yza01pKYwM3G",
        "outputId": "72170743-b490-47a6-ed44-b12e6ac89046"
      },
      "execution_count": 9,
      "outputs": [
        {
          "output_type": "execute_result",
          "data": {
            "text/plain": [
              "14"
            ]
          },
          "metadata": {},
          "execution_count": 9
        }
      ]
    }
  ]
}